{
 "cells": [
  {
   "cell_type": "code",
   "execution_count": 19,
   "metadata": {
    "collapsed": false
   },
   "outputs": [],
   "source": [
    "import pandas as pd \n",
    "road_segments = pd.read_csv(\"../data/road-segments.txt\",sep=\" \",header=None) "
   ]
  },
  {
   "cell_type": "code",
   "execution_count": 20,
   "metadata": {
    "collapsed": false
   },
   "outputs": [
    {
     "data": {
      "text/html": [
       "<div>\n",
       "<table border=\"1\" class=\"dataframe\">\n",
       "  <thead>\n",
       "    <tr style=\"text-align: right;\">\n",
       "      <th></th>\n",
       "      <th>0</th>\n",
       "      <th>1</th>\n",
       "      <th>2</th>\n",
       "      <th>3</th>\n",
       "      <th>4</th>\n",
       "    </tr>\n",
       "  </thead>\n",
       "  <tbody>\n",
       "    <tr>\n",
       "      <th>0</th>\n",
       "      <td>Y_City,_Arkansas</td>\n",
       "      <td>Acorn,_Arkansas</td>\n",
       "      <td>15</td>\n",
       "      <td>45.0</td>\n",
       "      <td>US_71/270</td>\n",
       "    </tr>\n",
       "    <tr>\n",
       "      <th>1</th>\n",
       "      <td>Y_City,_Arkansas</td>\n",
       "      <td>Greenwood,_Arkansas</td>\n",
       "      <td>46</td>\n",
       "      <td>45.0</td>\n",
       "      <td>US_71</td>\n",
       "    </tr>\n",
       "    <tr>\n",
       "      <th>2</th>\n",
       "      <td>Y_City,_Arkansas</td>\n",
       "      <td>Hot_Springs,_Arkansas</td>\n",
       "      <td>70</td>\n",
       "      <td>45.0</td>\n",
       "      <td>US_270</td>\n",
       "    </tr>\n",
       "    <tr>\n",
       "      <th>3</th>\n",
       "      <td>Abbot_Village,_Maine</td>\n",
       "      <td>Bingham,_Maine</td>\n",
       "      <td>24</td>\n",
       "      <td>45.0</td>\n",
       "      <td>ME_16</td>\n",
       "    </tr>\n",
       "    <tr>\n",
       "      <th>4</th>\n",
       "      <td>Abbot_Village,_Maine</td>\n",
       "      <td>Guilford,_Maine</td>\n",
       "      <td>4</td>\n",
       "      <td>45.0</td>\n",
       "      <td>ME_6/15/16</td>\n",
       "    </tr>\n",
       "  </tbody>\n",
       "</table>\n",
       "</div>"
      ],
      "text/plain": [
       "                      0                      1   2     3           4\n",
       "0      Y_City,_Arkansas        Acorn,_Arkansas  15  45.0   US_71/270\n",
       "1      Y_City,_Arkansas    Greenwood,_Arkansas  46  45.0       US_71\n",
       "2      Y_City,_Arkansas  Hot_Springs,_Arkansas  70  45.0      US_270\n",
       "3  Abbot_Village,_Maine         Bingham,_Maine  24  45.0       ME_16\n",
       "4  Abbot_Village,_Maine        Guilford,_Maine   4  45.0  ME_6/15/16"
      ]
     },
     "execution_count": 20,
     "metadata": {},
     "output_type": "execute_result"
    }
   ],
   "source": [
    "road_segments.head() "
   ]
  },
  {
   "cell_type": "code",
   "execution_count": 21,
   "metadata": {
    "collapsed": false
   },
   "outputs": [
    {
     "data": {
      "text/html": [
       "<div>\n",
       "<table border=\"1\" class=\"dataframe\">\n",
       "  <thead>\n",
       "    <tr style=\"text-align: right;\">\n",
       "      <th></th>\n",
       "      <th>City1</th>\n",
       "      <th>City2</th>\n",
       "      <th>Distance</th>\n",
       "      <th>speed_limit</th>\n",
       "      <th>Highway</th>\n",
       "    </tr>\n",
       "  </thead>\n",
       "  <tbody>\n",
       "    <tr>\n",
       "      <th>0</th>\n",
       "      <td>Y_City,_Arkansas</td>\n",
       "      <td>Acorn,_Arkansas</td>\n",
       "      <td>15</td>\n",
       "      <td>45.0</td>\n",
       "      <td>US_71/270</td>\n",
       "    </tr>\n",
       "    <tr>\n",
       "      <th>1</th>\n",
       "      <td>Y_City,_Arkansas</td>\n",
       "      <td>Greenwood,_Arkansas</td>\n",
       "      <td>46</td>\n",
       "      <td>45.0</td>\n",
       "      <td>US_71</td>\n",
       "    </tr>\n",
       "    <tr>\n",
       "      <th>2</th>\n",
       "      <td>Y_City,_Arkansas</td>\n",
       "      <td>Hot_Springs,_Arkansas</td>\n",
       "      <td>70</td>\n",
       "      <td>45.0</td>\n",
       "      <td>US_270</td>\n",
       "    </tr>\n",
       "    <tr>\n",
       "      <th>3</th>\n",
       "      <td>Abbot_Village,_Maine</td>\n",
       "      <td>Bingham,_Maine</td>\n",
       "      <td>24</td>\n",
       "      <td>45.0</td>\n",
       "      <td>ME_16</td>\n",
       "    </tr>\n",
       "    <tr>\n",
       "      <th>4</th>\n",
       "      <td>Abbot_Village,_Maine</td>\n",
       "      <td>Guilford,_Maine</td>\n",
       "      <td>4</td>\n",
       "      <td>45.0</td>\n",
       "      <td>ME_6/15/16</td>\n",
       "    </tr>\n",
       "  </tbody>\n",
       "</table>\n",
       "</div>"
      ],
      "text/plain": [
       "                  City1                  City2  Distance  speed_limit  \\\n",
       "0      Y_City,_Arkansas        Acorn,_Arkansas        15         45.0   \n",
       "1      Y_City,_Arkansas    Greenwood,_Arkansas        46         45.0   \n",
       "2      Y_City,_Arkansas  Hot_Springs,_Arkansas        70         45.0   \n",
       "3  Abbot_Village,_Maine         Bingham,_Maine        24         45.0   \n",
       "4  Abbot_Village,_Maine        Guilford,_Maine         4         45.0   \n",
       "\n",
       "      Highway  \n",
       "0   US_71/270  \n",
       "1       US_71  \n",
       "2      US_270  \n",
       "3       ME_16  \n",
       "4  ME_6/15/16  "
      ]
     },
     "execution_count": 21,
     "metadata": {},
     "output_type": "execute_result"
    }
   ],
   "source": [
    "col=[\"City1\",\"City2\",\"Distance\",\"speed_limit\",\"Highway\"]\n",
    "road_segments.columns=col\n",
    "road_segments.head()  "
   ]
  },
  {
   "cell_type": "code",
   "execution_count": 22,
   "metadata": {
    "collapsed": false
   },
   "outputs": [
    {
     "data": {
      "text/plain": [
       "12"
      ]
     },
     "execution_count": 22,
     "metadata": {},
     "output_type": "execute_result"
    }
   ],
   "source": [
    "##There are some case with Distance=0 \n",
    "len(road_segments[(road_segments['Distance']==0)]) "
   ]
  },
  {
   "cell_type": "code",
   "execution_count": 13,
   "metadata": {
    "collapsed": false
   },
   "outputs": [
    {
     "data": {
      "text/plain": [
       "City1           0\n",
       "City2           0\n",
       "Distance        0\n",
       "speed_limit    19\n",
       "Highway         0\n",
       "dtype: int64"
      ]
     },
     "execution_count": 13,
     "metadata": {},
     "output_type": "execute_result"
    }
   ],
   "source": [
    "# some cases where speed is null\n",
    "road_segments.isnull().sum() "
   ]
  },
  {
   "cell_type": "code",
   "execution_count": 5,
   "metadata": {
    "collapsed": false
   },
   "outputs": [
    {
     "data": {
      "text/plain": [
       "47"
      ]
     },
     "execution_count": 5,
     "metadata": {},
     "output_type": "execute_result"
    }
   ],
   "source": [
    "len(road_segments[road_segments['speed_limit']==0])"
   ]
  },
  {
   "cell_type": "code",
   "execution_count": 7,
   "metadata": {
    "collapsed": true
   },
   "outputs": [],
   "source": [
    "city_gps= pd.read_csv(\"../data/city-gps.txt\",sep=\" \",header=None) "
   ]
  },
  {
   "cell_type": "code",
   "execution_count": 14,
   "metadata": {
    "collapsed": false
   },
   "outputs": [
    {
     "data": {
      "text/html": [
       "<div>\n",
       "<table border=\"1\" class=\"dataframe\">\n",
       "  <thead>\n",
       "    <tr style=\"text-align: right;\">\n",
       "      <th></th>\n",
       "      <th>0</th>\n",
       "      <th>1</th>\n",
       "      <th>2</th>\n",
       "    </tr>\n",
       "  </thead>\n",
       "  <tbody>\n",
       "    <tr>\n",
       "      <th>0</th>\n",
       "      <td>I\"Y\"_City,_Arkansas</td>\n",
       "      <td>34.735104</td>\n",
       "      <td>-94.073257</td>\n",
       "    </tr>\n",
       "    <tr>\n",
       "      <th>1</th>\n",
       "      <td>Abbot_Village,_Maine</td>\n",
       "      <td>45.197684</td>\n",
       "      <td>-69.458819</td>\n",
       "    </tr>\n",
       "    <tr>\n",
       "      <th>2</th>\n",
       "      <td>Abbotsford,_Wisconsin</td>\n",
       "      <td>44.946356</td>\n",
       "      <td>-90.315969</td>\n",
       "    </tr>\n",
       "    <tr>\n",
       "      <th>3</th>\n",
       "      <td>Abbott,_New_Mexico</td>\n",
       "      <td>36.305585</td>\n",
       "      <td>-104.258870</td>\n",
       "    </tr>\n",
       "    <tr>\n",
       "      <th>4</th>\n",
       "      <td>Abbyville,_Kansas</td>\n",
       "      <td>37.970847</td>\n",
       "      <td>-98.204230</td>\n",
       "    </tr>\n",
       "  </tbody>\n",
       "</table>\n",
       "</div>"
      ],
      "text/plain": [
       "                       0          1           2\n",
       "0    I\"Y\"_City,_Arkansas  34.735104  -94.073257\n",
       "1   Abbot_Village,_Maine  45.197684  -69.458819\n",
       "2  Abbotsford,_Wisconsin  44.946356  -90.315969\n",
       "3     Abbott,_New_Mexico  36.305585 -104.258870\n",
       "4      Abbyville,_Kansas  37.970847  -98.204230"
      ]
     },
     "execution_count": 14,
     "metadata": {},
     "output_type": "execute_result"
    }
   ],
   "source": [
    "city_gps.head()"
   ]
  },
  {
   "cell_type": "code",
   "execution_count": 15,
   "metadata": {
    "collapsed": false
   },
   "outputs": [
    {
     "data": {
      "text/html": [
       "<div>\n",
       "<table border=\"1\" class=\"dataframe\">\n",
       "  <thead>\n",
       "    <tr style=\"text-align: right;\">\n",
       "      <th></th>\n",
       "      <th>City1</th>\n",
       "      <th>City2</th>\n",
       "      <th>Distance</th>\n",
       "      <th>speed_limit</th>\n",
       "      <th>Highway</th>\n",
       "    </tr>\n",
       "  </thead>\n",
       "  <tbody>\n",
       "    <tr>\n",
       "      <th>0</th>\n",
       "      <td>Y_City,_Arkansas</td>\n",
       "      <td>Acorn,_Arkansas</td>\n",
       "      <td>15</td>\n",
       "      <td>45.0</td>\n",
       "      <td>US_71/270</td>\n",
       "    </tr>\n",
       "    <tr>\n",
       "      <th>1</th>\n",
       "      <td>Y_City,_Arkansas</td>\n",
       "      <td>Greenwood,_Arkansas</td>\n",
       "      <td>46</td>\n",
       "      <td>45.0</td>\n",
       "      <td>US_71</td>\n",
       "    </tr>\n",
       "    <tr>\n",
       "      <th>2</th>\n",
       "      <td>Y_City,_Arkansas</td>\n",
       "      <td>Hot_Springs,_Arkansas</td>\n",
       "      <td>70</td>\n",
       "      <td>45.0</td>\n",
       "      <td>US_270</td>\n",
       "    </tr>\n",
       "    <tr>\n",
       "      <th>3</th>\n",
       "      <td>Abbot_Village,_Maine</td>\n",
       "      <td>Bingham,_Maine</td>\n",
       "      <td>24</td>\n",
       "      <td>45.0</td>\n",
       "      <td>ME_16</td>\n",
       "    </tr>\n",
       "    <tr>\n",
       "      <th>4</th>\n",
       "      <td>Abbot_Village,_Maine</td>\n",
       "      <td>Guilford,_Maine</td>\n",
       "      <td>4</td>\n",
       "      <td>45.0</td>\n",
       "      <td>ME_6/15/16</td>\n",
       "    </tr>\n",
       "  </tbody>\n",
       "</table>\n",
       "</div>"
      ],
      "text/plain": [
       "                  City1                  City2  Distance  speed_limit  \\\n",
       "0      Y_City,_Arkansas        Acorn,_Arkansas        15         45.0   \n",
       "1      Y_City,_Arkansas    Greenwood,_Arkansas        46         45.0   \n",
       "2      Y_City,_Arkansas  Hot_Springs,_Arkansas        70         45.0   \n",
       "3  Abbot_Village,_Maine         Bingham,_Maine        24         45.0   \n",
       "4  Abbot_Village,_Maine        Guilford,_Maine         4         45.0   \n",
       "\n",
       "      Highway  \n",
       "0   US_71/270  \n",
       "1       US_71  \n",
       "2      US_270  \n",
       "3       ME_16  \n",
       "4  ME_6/15/16  "
      ]
     },
     "execution_count": 15,
     "metadata": {},
     "output_type": "execute_result"
    }
   ],
   "source": [
    "road_segments.head()"
   ]
  },
  {
   "cell_type": "code",
   "execution_count": 35,
   "metadata": {
    "collapsed": false
   },
   "outputs": [],
   "source": [
    "cityList=road_segments['City1']\n",
    "cityList=cityList.append(road_segments['City2']) "
   ]
  },
  {
   "cell_type": "code",
   "execution_count": 36,
   "metadata": {
    "collapsed": false
   },
   "outputs": [],
   "source": [
    "no_cordinates=set(cityList)-set(city_gps[0])"
   ]
  },
  {
   "cell_type": "code",
   "execution_count": 37,
   "metadata": {
    "collapsed": false
   },
   "outputs": [
    {
     "data": {
      "text/plain": [
       "1053"
      ]
     },
     "execution_count": 37,
     "metadata": {},
     "output_type": "execute_result"
    }
   ],
   "source": [
    "len(no_cordinates)"
   ]
  },
  {
   "cell_type": "code",
   "execution_count": 38,
   "metadata": {
    "collapsed": true
   },
   "outputs": [],
   "source": [
    "no_cordinates=pd.DataFrame(list(no_cordinates)) "
   ]
  },
  {
   "cell_type": "code",
   "execution_count": 40,
   "metadata": {
    "collapsed": false
   },
   "outputs": [
    {
     "data": {
      "text/plain": [
       "1053"
      ]
     },
     "execution_count": 40,
     "metadata": {},
     "output_type": "execute_result"
    }
   ],
   "source": [
    "len(no_cordinates)"
   ]
  },
  {
   "cell_type": "code",
   "execution_count": 41,
   "metadata": {
    "collapsed": false
   },
   "outputs": [],
   "source": [
    "no_cordinates.to_csv('no_cordinates.txt',' ')"
   ]
  },
  {
   "cell_type": "code",
   "execution_count": null,
   "metadata": {
    "collapsed": true
   },
   "outputs": [],
   "source": []
  }
 ],
 "metadata": {
  "anaconda-cloud": {},
  "kernelspec": {
   "display_name": "Python [Root]",
   "language": "python",
   "name": "Python [Root]"
  },
  "language_info": {
   "codemirror_mode": {
    "name": "ipython",
    "version": 3
   },
   "file_extension": ".py",
   "mimetype": "text/x-python",
   "name": "python",
   "nbconvert_exporter": "python",
   "pygments_lexer": "ipython3",
   "version": "3.5.2"
  }
 },
 "nbformat": 4,
 "nbformat_minor": 0
}
